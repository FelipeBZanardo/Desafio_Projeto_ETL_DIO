{
  "nbformat": 4,
  "nbformat_minor": 0,
  "metadata": {
    "colab": {
      "provenance": [],
      "authorship_tag": "ABX9TyM0YoW5FH1o2yjIqhYMqlKT",
      "include_colab_link": true
    },
    "kernelspec": {
      "name": "python3",
      "display_name": "Python 3"
    },
    "language_info": {
      "name": "python"
    }
  },
  "cells": [
    {
      "cell_type": "markdown",
      "metadata": {
        "id": "view-in-github",
        "colab_type": "text"
      },
      "source": [
        "<a href=\"https://colab.research.google.com/github/FelipeBZanardo/Desafio_Projeto_ETL_DIO/blob/main/ETL_MinhaQuina.ipynb\" target=\"_parent\"><img src=\"https://colab.research.google.com/assets/colab-badge.svg\" alt=\"Open In Colab\"/></a>"
      ]
    },
    {
      "cell_type": "markdown",
      "source": [
        "# Santander Dev Week 2023 (ETL com Python)"
      ],
      "metadata": {
        "id": "BPJQsTCULaC-"
      }
    },
    {
      "cell_type": "markdown",
      "source": [
        "**Contexto:** O objetivo desse projeto é gerar uma lista com 5 dezenas para jogar na Quina (Caixa Federal) através de uma API desenvolvida com JAVA disponível em https://github.com/FelipeBZanardo/Projeto-Final-Web-II.\n",
        "\n",
        "**Condições do Problema:**\n",
        "\n",
        "1. Extrair os dados de todos os sorteios já realizados pela caixa através do endpoint https://servicebus2.caixa.gov.br/portaldeloterias/api/quina/\n",
        "2. Com base nos dados do item anterior, foi levantado as 10 dezenas que mais saíram, e através de um sorteio randômico, foram geradas 5 dezenas para realização da aposta.\n",
        "3. Por fim, uma aposta é realizada através API citada no início.\n",
        "\n"
      ],
      "metadata": {
        "id": "k5fA5OrXt1a3"
      }
    },
    {
      "cell_type": "markdown",
      "source": [
        "## **E**xtract\n",
        "\n",
        "Extraia os dados de todos os sorteios já realizados na caixa!\n",
        "Como atualmente são mais de 6000 sorteios, para acelerar o processo, faça o download do arquivo.csv 'banco_dados.csv' disponível em: '' e faça o upload na pasta aqui do colab.\n",
        "Não se preocupe, os sorteios mais recentes serão atualizados pelo programa descrito abaixo."
      ],
      "metadata": {
        "id": "9dfI-o7gLRq9"
      }
    },
    {
      "cell_type": "code",
      "source": [
        "import os.path\n",
        "import pandas as pd\n",
        "from requests.models import Response\n",
        "import requests\n",
        "import json\n",
        "import warnings\n",
        "\n",
        "warnings.filterwarnings(\"ignore\") #ignora warnings\n",
        "\n",
        "end_point_caixa = 'https://servicebus2.caixa.gov.br/portaldeloterias/api/quina/'\n",
        "nome_arquivo = 'banco_dados.csv'\n",
        "\n",
        "#Verifica se foi feito o upload do arquivo 'banco_dados.csv'\n",
        "def get_banco_dados_df():\n",
        "  if not os.path.isfile(nome_arquivo):\n",
        "    pd.DataFrame().to_csv(nome_arquivo)\n",
        "  return pd.read_csv(nome_arquivo)\n",
        "\n",
        "#atualiza o arquivo com todos os sorteios\n",
        "def atualizar_banco_dados():\n",
        "  banco_dados_df = get_banco_dados_df()\n",
        "  novos_sorteios_df = pd.DataFrame(get_sorteios(get_ultimo_sorteio_salvo()))\n",
        "  if banco_dados_df.empty:\n",
        "    novos_sorteios_df.to_csv(nome_arquivo)\n",
        "  else:\n",
        "    pd.concat([banco_dados_df, novos_sorteios_df]).drop(columns='Unnamed: 0').to_csv(nome_arquivo)\n",
        "\n",
        "#verifica qual o último sorteio salvo no arquivo de banco de dados\n",
        "def get_ultimo_sorteio_salvo():\n",
        "  banco_dados_df = get_banco_dados_df()\n",
        "  if banco_dados_df.empty:\n",
        "    return 0\n",
        "  return banco_dados_df['numero_sorteio'].iloc[-1]\n",
        "\n",
        "#Busca na API da Caixa o último sorteio\n",
        "def get_ultimo_sorteio_quina():\n",
        "  return requests.get(end_point_caixa, verify=False).json()\n",
        "\n",
        "#todos os sorteios a partir do numero_sorteio_inicial\n",
        "def get_sorteios(numero_sorteio_inicial):\n",
        "  numeros_sorteio = []\n",
        "  datas_sorteio = []\n",
        "  dezenas_sorteios = []\n",
        "  ultimo_sorteio = get_ultimo_sorteio_quina()['numero']\n",
        "  for numero_sorteio in range(numero_sorteio_inicial + 1, ultimo_sorteio + 1, 1):\n",
        "    response = requests.get(f'{end_point_caixa}{numero_sorteio}', verify=False).json()\n",
        "    numeros_sorteio.append(response['numero'])\n",
        "    datas_sorteio.append(response['dataApuracao'])\n",
        "    dezenas_sorteios.append(response['listaDezenas'])\n",
        "\n",
        "  return {\n",
        "      'numero_sorteio': numeros_sorteio,\n",
        "      'data_sorteio': datas_sorteio,\n",
        "      'dezenas_sorteadas': dezenas_sorteios\n",
        "      }\n",
        "\n",
        "atualizar_banco_dados()\n"
      ],
      "metadata": {
        "id": "58HP5gsH2y3A"
      },
      "execution_count": 92,
      "outputs": []
    },
    {
      "cell_type": "markdown",
      "source": [
        "## **T**ransform\n",
        "\n",
        "Feito um levantamento das 10 dezenas mais sorteadas dos 'n' últimos sorteios e através de uma escolha randômica foi escolhido 5 números para a realização da aposta."
      ],
      "metadata": {
        "id": "cWoqInB4TF1x"
      }
    },
    {
      "cell_type": "code",
      "source": [
        "from ast import literal_eval\n",
        "import random\n",
        "\n",
        "#coloque aqui quantos sorteios você quer filtrar.\n",
        "#n = 0 será pego todos os sorteios\n",
        "n = 0\n",
        "\n",
        "n = get_ultimo_sorteio_quina()['numero'] if n == 0 else n\n",
        "\n",
        "#Série com a lista de dezenas sorteadas de cada sorteio\n",
        "dezenas = get_banco_dados_df()['dezenas_sorteadas'].apply(literal_eval).head(n)\n",
        "\n",
        "#As 10 dezenas mais sorteadas pela Caixa\n",
        "dezenas_explode = dezenas.explode().reset_index(drop=True).dropna()\n",
        "lista_dezenas = dezenas_explode.groupby(dezenas_explode).count().sort_values(ascending=False).head(10).index.to_list()\n",
        "\n",
        "#Sugestão de dezenas a serem apostadas\n",
        "dezenas_a_apostar = random.sample(lista_dezenas, k=5)\n",
        "print(dezenas_a_apostar)\n"
      ],
      "metadata": {
        "colab": {
          "base_uri": "https://localhost:8080/"
        },
        "id": "eMNT2mtNGbFW",
        "outputId": "5855bb8d-f778-4ec9-e8b5-b29c1256a9d8"
      },
      "execution_count": 73,
      "outputs": [
        {
          "output_type": "stream",
          "name": "stdout",
          "text": [
            "['32', '54', '52', '39', '38']\n"
          ]
        }
      ]
    },
    {
      "cell_type": "markdown",
      "source": [
        "## **L**oad\n",
        "\n",
        "Aposta feita com as dezenas sugeridas pelo algoritmo através da API 'Minha-Quina' https://github.com/FelipeBZanardo/Projeto-Final-Web-II"
      ],
      "metadata": {
        "id": "kNuP0SDUZMBY"
      }
    },
    {
      "cell_type": "markdown",
      "source": [
        "## **I**mportante\n",
        "\n",
        "Para realização dos próximos passos, seguir as seguintes instruções:\n",
        "\n",
        "1.   Fazer o clone da API  https://github.com/FelipeBZanardo/Projeto-Final-Web-II\n",
        "2.   Abrir o IntelliJ e rodar a aplicação 'MinhaQuinaAplication'\n",
        "3.  Para gerar uma URL de um servidor local disponível aqui no Google Colab:\n",
        "  *   Abrir o Terminal (windows + cmd)\n",
        "  *   Digitar: `ssh -p 443 -R0:localhost:8080 -L4300:localhost:4300 qr@a.pinggy.io`\n",
        "  * Copiar a url que aparecerá e substituir no código abaixo como indicado\n",
        "\n",
        "\n",
        "\n"
      ],
      "metadata": {
        "id": "7_eaygoplnKR"
      }
    },
    {
      "cell_type": "code",
      "source": [
        "#Login para utilização da API\n",
        "\n",
        "#Substitua aqui a URL vinda do Terminal\n",
        "url = 'http://rnbns-177-148-143-42.a.free.pinggy.online'\n",
        "\n",
        "login = {'username': 'felipe.zanardo',\n",
        "         'password': 'D7e-kx;$7wQD5e'}\n",
        "\n",
        "token = requests.post(url=url+'/auth/login', json=login).json()['token']"
      ],
      "metadata": {
        "id": "OL09SZ2gSKsf"
      },
      "execution_count": 76,
      "outputs": []
    },
    {
      "cell_type": "code",
      "source": [
        "#Realização da Aposta:\n",
        "\n",
        "def formatar_data():\n",
        "  data = get_ultimo_sorteio_quina()['dataProximoConcurso'].split('/')\n",
        "  return data[2] + '-' + data[1] + '-' + data[0]\n",
        "\n",
        "aposta = {'numeroSorteio': get_ultimo_sorteio_quina()['numero'] + 1,\n",
        "\t'dezenas': dezenas_a_apostar,\n",
        "\t'dataJogo': formatar_data()}\n",
        "\n",
        "headers = {\n",
        "    'Authorization': f'Bearer {token}',\n",
        "}\n",
        "\n",
        "response = requests.post(url=url+'/minha-quina/api/v1/apostas', json=aposta, headers=headers).json()\n",
        "print(response)\n",
        "\n"
      ],
      "metadata": {
        "colab": {
          "base_uri": "https://localhost:8080/"
        },
        "id": "tdSc0wi4HLt4",
        "outputId": "4340ca70-7670-488b-b876-8e6470dea075"
      },
      "execution_count": 78,
      "outputs": [
        {
          "output_type": "stream",
          "name": "stdout",
          "text": [
            "{'id': 2, 'numeroSorteio': 6228, 'dezenas': [32, 54, 52, 39, 38], 'dataJogo': '2023-08-29'}\n"
          ]
        }
      ]
    }
  ]
}